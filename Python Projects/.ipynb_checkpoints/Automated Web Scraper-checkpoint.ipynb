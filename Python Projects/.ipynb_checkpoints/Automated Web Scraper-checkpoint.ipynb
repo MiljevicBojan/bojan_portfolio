{
 "cells": [
  {
   "cell_type": "markdown",
   "id": "e8be135b",
   "metadata": {},
   "source": [
    "# Automated Web Scraper "
   ]
  },
  {
   "cell_type": "code",
   "execution_count": 1,
   "id": "463bce9a",
   "metadata": {},
   "outputs": [],
   "source": [
    "from bs4 import BeautifulSoup\n",
    "import requests\n",
    "\n",
    "url = 'https://coinmarketcap.com/currencies/bitcoin/'\n",
    "page = requests.get(url)\n",
    "\n",
    "soup = BeautifulSoup(page.text, 'html')"
   ]
  },
  {
   "cell_type": "code",
   "execution_count": null,
   "id": "88cffe80",
   "metadata": {},
   "outputs": [],
   "source": []
  },
  {
   "cell_type": "code",
   "execution_count": 3,
   "id": "8b1d1d66",
   "metadata": {},
   "outputs": [
    {
     "data": {
      "text/plain": [
       "<span class=\"sc-65e7f566-0 lsTl\" data-role=\"coin-name\" title=\"Bitcoin\">Bitcoin<span class=\"sc-65e7f566-0 eQBACe coin-name-mobile\"> price</span> </span>"
      ]
     },
     "execution_count": 3,
     "metadata": {},
     "output_type": "execute_result"
    }
   ],
   "source": [
    "soup.find('span', class_ = 'sc-65e7f566-0 lsTl')"
   ]
  },
  {
   "cell_type": "code",
   "execution_count": 4,
   "id": "d454243f",
   "metadata": {},
   "outputs": [
    {
     "data": {
      "text/plain": [
       "'Bitcoin'"
      ]
     },
     "execution_count": 4,
     "metadata": {},
     "output_type": "execute_result"
    }
   ],
   "source": [
    "soup.find('span', 'sc-65e7f566-0 lsTl').text"
   ]
  },
  {
   "cell_type": "code",
   "execution_count": 5,
   "id": "79fe60a4",
   "metadata": {},
   "outputs": [
    {
     "name": "stdout",
     "output_type": "stream",
     "text": [
      "Bitcoin\n"
     ]
    }
   ],
   "source": [
    "crypto_name = soup.find('span', 'sc-65e7f566-0 lsTl').text\n",
    "print(crypto_name)"
   ]
  },
  {
   "cell_type": "code",
   "execution_count": 6,
   "id": "17dbe967",
   "metadata": {},
   "outputs": [
    {
     "name": "stdout",
     "output_type": "stream",
     "text": [
      "$60,758.55\n"
     ]
    }
   ],
   "source": [
    "crypto_price = soup.find('span', class_ = \"sc-65e7f566-0 clvjgF base-text\").text\n",
    "print(crypto_price)"
   ]
  },
  {
   "cell_type": "code",
   "execution_count": 7,
   "id": "fa871f93",
   "metadata": {},
   "outputs": [],
   "source": [
    "final_price = crypto_price.replace(\"$\",'')"
   ]
  },
  {
   "cell_type": "code",
   "execution_count": 8,
   "id": "885de7f5",
   "metadata": {},
   "outputs": [
    {
     "data": {
      "text/plain": [
       "'60,758.55'"
      ]
     },
     "execution_count": 8,
     "metadata": {},
     "output_type": "execute_result"
    }
   ],
   "source": [
    "final_price"
   ]
  },
  {
   "cell_type": "code",
   "execution_count": 9,
   "id": "940af628",
   "metadata": {},
   "outputs": [],
   "source": [
    "import pandas as pd"
   ]
  },
  {
   "cell_type": "code",
   "execution_count": 10,
   "id": "70a67d65",
   "metadata": {},
   "outputs": [
    {
     "name": "stdout",
     "output_type": "stream",
     "text": [
      "2024-08-20 04:29:52.124173\n"
     ]
    }
   ],
   "source": [
    "from datetime import datetime\n",
    "\n",
    "date_time = datetime.now()\n",
    "\n",
    "print(date_time)"
   ]
  },
  {
   "cell_type": "code",
   "execution_count": 11,
   "id": "bbf18cde",
   "metadata": {},
   "outputs": [
    {
     "data": {
      "text/html": [
       "<div>\n",
       "<style scoped>\n",
       "    .dataframe tbody tr th:only-of-type {\n",
       "        vertical-align: middle;\n",
       "    }\n",
       "\n",
       "    .dataframe tbody tr th {\n",
       "        vertical-align: top;\n",
       "    }\n",
       "\n",
       "    .dataframe thead th {\n",
       "        text-align: right;\n",
       "    }\n",
       "</style>\n",
       "<table border=\"1\" class=\"dataframe\">\n",
       "  <thead>\n",
       "    <tr style=\"text-align: right;\">\n",
       "      <th></th>\n",
       "      <th>Crypto Name</th>\n",
       "      <th>Price</th>\n",
       "      <th>TimeStamp</th>\n",
       "    </tr>\n",
       "  </thead>\n",
       "  <tbody>\n",
       "    <tr>\n",
       "      <th>0</th>\n",
       "      <td>Bitcoin</td>\n",
       "      <td>60,758.55</td>\n",
       "      <td>2024-08-20 04:29:52.139132</td>\n",
       "    </tr>\n",
       "  </tbody>\n",
       "</table>\n",
       "</div>"
      ],
      "text/plain": [
       "  Crypto Name      Price                  TimeStamp\n",
       "0     Bitcoin  60,758.55 2024-08-20 04:29:52.139132"
      ]
     },
     "execution_count": 11,
     "metadata": {},
     "output_type": "execute_result"
    }
   ],
   "source": [
    "date_time = datetime.now()\n",
    "\n",
    "dict = {'Crypto Name':crypto_name,\n",
    "        'Price':final_price,\n",
    "        'TimeStamp':date_time}\n",
    "\n",
    "df = pd.DataFrame([dict]) \n",
    "#or\n",
    "#pd.DataFrame(dict, index=[0])\n",
    "df"
   ]
  },
  {
   "cell_type": "code",
   "execution_count": 12,
   "id": "eb4f5505",
   "metadata": {},
   "outputs": [],
   "source": [
    "df.to_csv(r'C:\\Users\\Bojan\\OneDrive\\Desktop\\Analyst\\Automated Crypto Web Scraper Project\\Crypto_Automated_Pull.csv')"
   ]
  },
  {
   "cell_type": "code",
   "execution_count": 13,
   "id": "74f8bb13",
   "metadata": {},
   "outputs": [],
   "source": [
    "import os"
   ]
  },
  {
   "cell_type": "code",
   "execution_count": 17,
   "id": "4c5959c0",
   "metadata": {},
   "outputs": [],
   "source": [
    "if os.path.exists(r'C:\\Users\\Bojan\\OneDrive\\Desktop\\Analyst\\Automated Crypto Web Scraper Project\\Crypto_Automated_Pull.csv'):\n",
    "    df.to_csv(r'C:\\Users\\Bojan\\OneDrive\\Desktop\\Analyst\\Automated Crypto Web Scraper Project\\Crypto_Automated_Pull.csv', mode = 'a', header=False, index=False)\n",
    "else:\n",
    "    df.to_csv(r'C:\\Users\\Bojan\\OneDrive\\Desktop\\Analyst\\Automated Crypto Web Scraper Project\\Crypto_Automated_Pull.csv')"
   ]
  },
  {
   "cell_type": "markdown",
   "id": "d9ef6656",
   "metadata": {},
   "source": []
  },
  {
   "cell_type": "code",
   "execution_count": 18,
   "id": "289e5fbd",
   "metadata": {},
   "outputs": [],
   "source": [
    "from bs4 import BeautifulSoup\n",
    "import requests\n",
    "import pandas as pd\n",
    "import os\n",
    "from datetime import datetime\n",
    "import time"
   ]
  },
  {
   "cell_type": "code",
   "execution_count": 25,
   "id": "853a6842",
   "metadata": {},
   "outputs": [],
   "source": [
    "def automated_crypto_pull():\n",
    "    url = 'https://coinmarketcap.com/currencies/bitcoin/'\n",
    "    page = requests.get(url)\n",
    "\n",
    "    soup = BeautifulSoup(page.text, 'html')\n",
    "\n",
    "    crypto_name = soup.find('span', 'sc-65e7f566-0 lsTl').text[:7]\n",
    "    crypto_price = soup.find('span', class_ = \"sc-65e7f566-0 clvjgF base-text\").text\n",
    "    final_price = crypto_price.replace(\"$\",'')\n",
    "\n",
    "    date_time = datetime.now()\n",
    "\n",
    "    dict = {'Crypto Name':crypto_name,\n",
    "            'Price':final_price,\n",
    "            'TimeStamp':date_time}\n",
    "\n",
    "    df = pd.DataFrame([dict])\n",
    "\n",
    "    if os.path.exists(r'C:\\Users\\Bojan\\OneDrive\\Desktop\\Analyst\\Automated Crypto Web Scraper Project\\Crypto_Automated_Pull.csv'):\n",
    "        df.to_csv(r'C:\\Users\\Bojan\\OneDrive\\Desktop\\Analyst\\Automated Crypto Web Scraper Project\\Crypto_Automated_Pull.csv', mode = 'a', header=False, index=False)\n",
    "    else:\n",
    "        df.to_csv(r'C:\\Users\\Bojan\\OneDrive\\Desktop\\Analyst\\Automated Crypto Web Scraper Project\\Crypto_Automated_Pull.csv', index=False)\n",
    "    print(df)"
   ]
  },
  {
   "cell_type": "code",
   "execution_count": 22,
   "id": "7322aa38",
   "metadata": {},
   "outputs": [],
   "source": []
  },
  {
   "cell_type": "code",
   "execution_count": 26,
   "id": "67917d90",
   "metadata": {},
   "outputs": [
    {
     "name": "stdout",
     "output_type": "stream",
     "text": [
      "  Crypto Name      Price                  TimeStamp\n",
      "0     Bitcoin  60,805.97 2024-08-20 04:59:58.022300\n",
      "  Crypto Name      Price                  TimeStamp\n",
      "0     Bitcoin  60,788.09 2024-08-20 05:00:08.149039\n",
      "  Crypto Name      Price                  TimeStamp\n",
      "0     Bitcoin  60,788.09 2024-08-20 05:00:18.294267\n",
      "  Crypto Name      Price                  TimeStamp\n",
      "0     Bitcoin  60,788.09 2024-08-20 05:00:28.464521\n",
      "  Crypto Name      Price                  TimeStamp\n",
      "0     Bitcoin  60,788.09 2024-08-20 05:00:38.599733\n",
      "  Crypto Name      Price                  TimeStamp\n",
      "0     Bitcoin  60,788.09 2024-08-20 05:00:48.740033\n",
      "  Crypto Name      Price                  TimeStamp\n",
      "0     Bitcoin  60,788.09 2024-08-20 05:00:58.896233\n"
     ]
    },
    {
     "ename": "KeyboardInterrupt",
     "evalue": "",
     "output_type": "error",
     "traceback": [
      "\u001b[1;31m---------------------------------------------------------------------------\u001b[0m",
      "\u001b[1;31mKeyboardInterrupt\u001b[0m                         Traceback (most recent call last)",
      "Input \u001b[1;32mIn [26]\u001b[0m, in \u001b[0;36m<cell line: 2>\u001b[1;34m()\u001b[0m\n\u001b[0;32m      1\u001b[0m \u001b[38;5;28;01mwhile\u001b[39;00m \u001b[38;5;28;01mTrue\u001b[39;00m:\n\u001b[0;32m      2\u001b[0m     automated_crypto_pull()\n\u001b[1;32m----> 3\u001b[0m     \u001b[43mtime\u001b[49m\u001b[38;5;241;43m.\u001b[39;49m\u001b[43msleep\u001b[49m\u001b[43m(\u001b[49m\u001b[38;5;241;43m10\u001b[39;49m\u001b[43m)\u001b[49m\n",
      "\u001b[1;31mKeyboardInterrupt\u001b[0m: "
     ]
    }
   ],
   "source": [
    "while True:\n",
    "    automated_crypto_pull()\n",
    "    time.sleep(10)"
   ]
  },
  {
   "cell_type": "code",
   "execution_count": null,
   "id": "606d8f72",
   "metadata": {},
   "outputs": [],
   "source": []
  },
  {
   "cell_type": "code",
   "execution_count": null,
   "id": "10b60389",
   "metadata": {},
   "outputs": [],
   "source": []
  },
  {
   "cell_type": "code",
   "execution_count": null,
   "id": "40bf94ca",
   "metadata": {},
   "outputs": [],
   "source": []
  }
 ],
 "metadata": {
  "kernelspec": {
   "display_name": "Python 3 (ipykernel)",
   "language": "python",
   "name": "python3"
  },
  "language_info": {
   "codemirror_mode": {
    "name": "ipython",
    "version": 3
   },
   "file_extension": ".py",
   "mimetype": "text/x-python",
   "name": "python",
   "nbconvert_exporter": "python",
   "pygments_lexer": "ipython3",
   "version": "3.9.12"
  }
 },
 "nbformat": 4,
 "nbformat_minor": 5
}
