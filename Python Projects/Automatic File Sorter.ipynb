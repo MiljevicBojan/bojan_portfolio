{
 "cells": [
  {
   "cell_type": "code",
   "execution_count": 7,
   "id": "17e6d12a",
   "metadata": {},
   "outputs": [],
   "source": [
    "import os, shutil"
   ]
  },
  {
   "cell_type": "code",
   "execution_count": 12,
   "id": "fc0d05ff",
   "metadata": {},
   "outputs": [],
   "source": [
    "path = r'C:\\Users\\Bojan\\OneDrive\\Desktop\\Analyst\\Automatic File Sorter Project\\\\'"
   ]
  },
  {
   "cell_type": "code",
   "execution_count": 13,
   "id": "90fe084d",
   "metadata": {},
   "outputs": [
    {
     "data": {
      "text/plain": [
       "['.ipynb_checkpoints',\n",
       " 'Automatic File Sorter.ipynb',\n",
       " 'CSVFile.csv',\n",
       " 'FakeFile.csv',\n",
       " 'FakeFile.txt',\n",
       " 'Max.png',\n",
       " 'NewFile.tsv',\n",
       " 'NewFile.txt',\n",
       " 'Rosie.png']"
      ]
     },
     "execution_count": 13,
     "metadata": {},
     "output_type": "execute_result"
    }
   ],
   "source": [
    "os.listdir(path)"
   ]
  },
  {
   "cell_type": "code",
   "execution_count": 14,
   "id": "cb3a0040",
   "metadata": {},
   "outputs": [],
   "source": [
    "#os.makedirs(path + new_folder_name)"
   ]
  },
  {
   "cell_type": "code",
   "execution_count": 15,
   "id": "aa994753",
   "metadata": {},
   "outputs": [],
   "source": [
    "folder_names = ['CSV Files','Text Files','Image Files']\n",
    "\n",
    "\n",
    "for folder in folder_names:\n",
    "    if not os.path.exists(path + folder):\n",
    "        os.mkdir(path + folder)"
   ]
  },
  {
   "cell_type": "code",
   "execution_count": 16,
   "id": "e47bb0fc",
   "metadata": {},
   "outputs": [
    {
     "data": {
      "text/plain": [
       "['.ipynb_checkpoints',\n",
       " 'Automatic File Sorter.ipynb',\n",
       " 'CSV Files',\n",
       " 'CSVFile.csv',\n",
       " 'FakeFile.csv',\n",
       " 'FakeFile.txt',\n",
       " 'Image Files',\n",
       " 'Max.png',\n",
       " 'NewFile.tsv',\n",
       " 'NewFile.txt',\n",
       " 'Rosie.png',\n",
       " 'Text Files']"
      ]
     },
     "execution_count": 16,
     "metadata": {},
     "output_type": "execute_result"
    }
   ],
   "source": [
    "os.listdir(path)"
   ]
  },
  {
   "cell_type": "code",
   "execution_count": 17,
   "id": "8bf84ba6",
   "metadata": {},
   "outputs": [],
   "source": [
    "file_names = os.listdir(path)\n",
    "path = r'C:\\Users\\Bojan\\OneDrive\\Desktop\\Analyst\\Automatic File Sorter Project\\\\'"
   ]
  },
  {
   "cell_type": "code",
   "execution_count": 18,
   "id": "6df5b6ed",
   "metadata": {},
   "outputs": [],
   "source": [
    "for file in file_names:\n",
    "    if \".csv\" in file and not os.path.exists(path + \"CSV Files\\\\\" + file):\n",
    "        shutil.move(path + file, path + \"CSV Files\\\\\" + file)\n",
    "    elif \".txt\" in file and not os.path.exists(path + \"Text Files\\\\\" + file):\n",
    "        shutil.move(path + file, path + \"Text Files\\\\\" + file)\n",
    "    elif \".png\" in file and not os.path.exists(path + \"Image Files\\\\\" + file):\n",
    "        shutil.move(path + file, path + \"Image Files\\\\\" + file)\n",
    "        "
   ]
  },
  {
   "cell_type": "code",
   "execution_count": 19,
   "id": "bc056f31",
   "metadata": {},
   "outputs": [],
   "source": [
    "#final script \n",
    "path = r'C:\\Users\\Bojan\\OneDrive\\Desktop\\Analyst\\Automatic File Sorter Project\\\\'\n",
    "\n",
    "folder_names = ['CSV Files','Text Files','Image Files']\n",
    "\n",
    "for folder in folder_names:\n",
    "    if not os.path.exists(path + folder):\n",
    "        os.mkdir(path + folder)\n",
    "        \n",
    "        \n",
    "file_names = os.listdir(path)\n",
    "\n",
    "for file in file_names:\n",
    "    if \".csv\" in file and not os.path.exists(path + \"CSV Files\\\\\" + file):\n",
    "        shutil.move(path + file, path + \"CSV Files\\\\\" + file)\n",
    "    elif \".txt\" in file and not os.path.exists(path + \"Text Files\\\\\" + file):\n",
    "        shutil.move(path + file, path + \"Text Files\\\\\" + file)\n",
    "    elif \".png\" in file and not os.path.exists(path + \"Image Files\\\\\" + file):\n",
    "        shutil.move(path + file, path + \"Image Files\\\\\" + file)\n",
    "        "
   ]
  },
  {
   "cell_type": "code",
   "execution_count": null,
   "id": "790d66a8",
   "metadata": {},
   "outputs": [],
   "source": []
  }
 ],
 "metadata": {
  "kernelspec": {
   "display_name": "Python 3 (ipykernel)",
   "language": "python",
   "name": "python3"
  },
  "language_info": {
   "codemirror_mode": {
    "name": "ipython",
    "version": 3
   },
   "file_extension": ".py",
   "mimetype": "text/x-python",
   "name": "python",
   "nbconvert_exporter": "python",
   "pygments_lexer": "ipython3",
   "version": "3.9.12"
  }
 },
 "nbformat": 4,
 "nbformat_minor": 5
}
